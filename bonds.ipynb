{
 "cells": [
  {
   "cell_type": "code",
   "execution_count": null,
   "metadata": {},
   "outputs": [],
   "source": [
    "import pandas as pd\n",
    "import numpy as np\n",
    "import requests\n",
    "from io import StringIO\n",
    "import ast\n",
    "import aiohttp\n",
    "import asyncio\n",
    "from itertools import chain\n",
    "import datetime\n",
    "import calendar\n",
    "from bs4 import BeautifulSoup\n",
    "import sqlite3\n",
    "\n",
    "pd.set_option('display.max_columns', False)\n",
    "pd.options.mode.chained_assignment = None"
   ]
  },
  {
   "cell_type": "code",
   "execution_count": null,
   "metadata": {},
   "outputs": [],
   "source": [
    "# Прикол на будущее, хочу сохранять историю торгов\n",
    "\n",
    "connection = sqlite3.connect('bonds_database.db')\n",
    "cur = connection.cursor()\n",
    "\n",
    "max_tradedate = cur.execute('SELECT MAX(TRADEDATE) FROM bonds_table') \\\n",
    "    .fetchone()[0]\n",
    "max_date = datetime.datetime.strptime(max_tradedate, '%Y-%m-%d').date()"
   ]
  },
  {
   "cell_type": "code",
   "execution_count": null,
   "metadata": {},
   "outputs": [],
   "source": [
    "todays_date = datetime.datetime.now().date()\n",
    "days_from_last_parse = (todays_date-max_date).days\n",
    "\n",
    "first_year_date = datetime.date(\n",
    "    datetime.datetime.now().year, 1, 1\n",
    ")\n",
    "last_year_date = datetime.date(\n",
    "    datetime.datetime.now().year, 12, 31\n",
    ")\n",
    "days_in_year = (last_year_date - first_year_date).days"
   ]
  },
  {
   "cell_type": "code",
   "execution_count": null,
   "metadata": {},
   "outputs": [],
   "source": [
    "cols = requests.get(\"https://iss.moex.com/iss/history/engines/stock/markets/bonds/securities.json?numtrades=1&limit=1\").json().get('history').get('columns')"
   ]
  },
  {
   "cell_type": "code",
   "execution_count": null,
   "metadata": {},
   "outputs": [],
   "source": [
    "lst_of_urls = []\n",
    "for i in range(1, days_from_last_parse):\n",
    "    parsing_day = max_date + datetime.timedelta(i)\n",
    "    if parsing_day.weekday() != 5 and parsing_day.weekday() != 6:\n",
    "        for start_num in range(0, 50001, 100):\n",
    "            url_of_100bonds = f\"https://iss.moex.com/iss/history/engines/stock/markets/bonds/securities.json?numtrades=1&start={start_num}&date={parsing_day.strftime('%Y-%m-%d')}\"\n",
    "            lst_of_urls.append(url_of_100bonds)\n",
    "lst_of_urls"
   ]
  },
  {
   "cell_type": "code",
   "execution_count": null,
   "metadata": {},
   "outputs": [],
   "source": [
    "async def fetch(url, session):\n",
    "    async with session.get(url) as response:\n",
    "        resp = await response.json()\n",
    "        history = resp.get('history')\n",
    "        data = history.get('data')\n",
    "        if len(data) != 0 or data != None:\n",
    "            return data\n",
    "\n",
    "\n",
    "async def fetch_all(urls):\n",
    "    async with aiohttp.ClientSession() as session:\n",
    "        tasks = [fetch(url, session) for url in urls]\n",
    "        results = await asyncio.gather(*tasks, return_exceptions=False)\n",
    "        return results\n",
    "\n",
    "third_dimens_lst_records = await fetch_all(lst_of_urls)\n",
    "records = list(chain(*third_dimens_lst_records))\n",
    "df = pd.DataFrame.from_records(data=records, columns=cols)\n",
    "\n",
    "df.to_sql('raw_bonds_table', connection, if_exists='append', index=False)"
   ]
  },
  {
   "cell_type": "code",
   "execution_count": null,
   "metadata": {},
   "outputs": [],
   "source": [
    "# Обработка\n",
    "\n",
    "df = df[df.OFFERDATE.isna()]\n",
    "df = df[~df.MATDATE.isna()] \n",
    "df = df[~df.DURATION.isna()]\n",
    "df = df[df.BUYBACKDATE.isna()]\n",
    "df = df[df.COUPONPERCENT != 0]\n",
    "df = df[df.COUPONVALUE != 0]\n",
    "df = df[df.ACCINT != 0]\n",
    "\n",
    "df_clean = df[['BOARDID', 'TRADEDATE', 'SHORTNAME', 'SECID', 'NUMTRADES', 'CLOSE', 'ACCINT', 'MATDATE', 'DURATION', 'COUPONPERCENT', 'COUPONVALUE', 'FACEVALUE', 'FACEUNIT']]"
   ]
  },
  {
   "cell_type": "code",
   "execution_count": null,
   "metadata": {},
   "outputs": [],
   "source": [
    "df_clean.MATDATE = pd.to_datetime(df_clean.MATDATE).dt.date\n",
    "df_clean['right_duration'] = (df_clean.MATDATE - todays_date).dt.days\n",
    "\n",
    "df_clean['coupon_times_year'] = round(df_clean.COUPONPERCENT / (df_clean.COUPONVALUE / df_clean.FACEVALUE * 100))\n",
    "\n",
    "df_clean['bid'] = df_clean.FACEVALUE * df_clean.CLOSE / 100\n",
    "\n",
    "df_clean['accint_percentage'] = df_clean.ACCINT /  df_clean.COUPONVALUE\n",
    "\n",
    "df_clean['coupons_interval'] = round(days_in_year / df_clean.coupon_times_year).astype('timedelta64[D]')\n",
    "df_clean = df_clean[~df_clean.coupons_interval.isna()]\n",
    "\n",
    "df_clean['coupon_all_times'] = (df_clean.right_duration / df_clean.coupons_interval.dt.days).apply(np.floor) + 1\n",
    "\n",
    "df_clean['next_coupon_date'] = df_clean.MATDATE - ((df_clean.coupon_all_times - 1) * df_clean.coupons_interval)\n",
    "\n",
    "df_clean = df_clean.replace(np.inf, np.nan)\n",
    "\n",
    "df_clean['simple_revenue'] = (df_clean.coupon_all_times * df_clean.COUPONVALUE - df_clean.ACCINT) + (df_clean.FACEVALUE - df_clean.bid)\n",
    "df_clean['simple_percent_revenue'] = df_clean.simple_revenue / df_clean.bid * 100 / df_clean.right_duration * days_in_year\n",
    "\n",
    "df_clean['profit'] = np.where(df_clean.right_duration < days_in_year * 3,\n",
    "    df_clean.simple_revenue - (df_clean.bid * 0.0003) - (df_clean.simple_revenue * 0.13),\n",
    "    df_clean.simple_revenue - (df_clean.bid * 0.0003))\n",
    "df_clean['percent_profit'] = df_clean.profit / df_clean.bid * 100 / df_clean.right_duration * days_in_year\n",
    "\n",
    "target_secids = df_clean.SECID.unique()"
   ]
  },
  {
   "cell_type": "code",
   "execution_count": null,
   "metadata": {},
   "outputs": [],
   "source": [
    "async def fetch_smart_lab(url, session):\n",
    "    async with session.get(url) as response:\n",
    "        resp = await response.text()\n",
    "        soup = BeautifulSoup(resp, 'lxml')\n",
    "        parsed_data = soup.find_all('div', class_=\"quotes-simple-table__item\")\n",
    "        parsed_data = list(\n",
    "            map(lambda x: x.text, parsed_data\n",
    "        ))\n",
    "\n",
    "        translation_dict = {\n",
    "        '\\n': '',\n",
    "        '\\t': ''\n",
    "        }\n",
    "        transfromed_data = list(\n",
    "            map(\n",
    "                lambda x: x.translate(x.maketrans(translation_dict)),\n",
    "                                      parsed_data)\n",
    "            )\n",
    "        return transfromed_data\n",
    "\n",
    "async def fetch_all_smart_lab(urls):\n",
    "    async with aiohttp.ClientSession() as session:\n",
    "        tasks = [fetch_smart_lab(url, session) for url in urls]\n",
    "        results = await asyncio.gather(*tasks, return_exceptions=False)\n",
    "        return results"
   ]
  },
  {
   "cell_type": "code",
   "execution_count": null,
   "metadata": {},
   "outputs": [],
   "source": [
    "base_url = 'https://smart-lab.ru/q/bonds/'\n",
    "smart_lab_url_lst = []\n",
    "for sic_id in target_secids:\n",
    "    smart_lab_url_lst.append(base_url+sic_id)\n",
    "\n",
    "lst_of_parser_info = await fetch_all_smart_lab(smart_lab_url_lst)"
   ]
  },
  {
   "cell_type": "code",
   "execution_count": null,
   "metadata": {},
   "outputs": [],
   "source": [
    "additional_info = []\n",
    "parsed_data_dict_keys = ['Только для квалов?', 'Кредитный рейтинг', 'Сектор', 'ISIN']\n",
    "for rec in lst_of_parser_info:\n",
    "    rec_lst = []\n",
    "    for target_value in parsed_data_dict_keys:\n",
    "        try:\n",
    "            rec_lst.append(rec[rec.index(target_value)+1])\n",
    "        except:\n",
    "            rec_lst.append(np.nan)\n",
    "    additional_info.append(rec_lst)\n",
    "\n",
    "additional_info_df = pd.DataFrame().from_records(additional_info, columns=parsed_data_dict_keys) \\\n",
    "    .rename(columns={'ISIN': 'SECID'}) \\\n",
    "    .drop_duplicates()\n",
    "bonds_df = df_clean.merge(additional_info_df, on='SECID', how='left')"
   ]
  },
  {
   "cell_type": "code",
   "execution_count": null,
   "metadata": {},
   "outputs": [],
   "source": [
    "# Добавление в бд\n",
    "bonds_df.to_sql('bonds_table', connection, if_exists='append', index=False)\n",
    "\n",
    "cur.close()\n",
    "connection.close()"
   ]
  },
  {
   "cell_type": "code",
   "execution_count": null,
   "metadata": {},
   "outputs": [],
   "source": [
    "filtered_df = bonds_df[\n",
    "    (bonds_df['Только для квалов?'] != 'Да') &\n",
    "    (bonds_df.percent_profit > 0) &\n",
    "    (bonds_df.accint_percentage <= 0.4)\n",
    "].sort_values(['percent_profit', 'Кредитный рейтинг'], ascending=[False,True])\n",
    "\n",
    "short_dur = filtered_df[filtered_df.right_duration < days_in_year]\n",
    "mid_dur = filtered_df[(days_in_year < filtered_df.right_duration) &\n",
    "                      (days_in_year*2 > filtered_df.right_duration)]\n",
    "long_dur = filtered_df[filtered_df.right_duration > days_in_year*2]"
   ]
  },
  {
   "cell_type": "code",
   "execution_count": null,
   "metadata": {},
   "outputs": [],
   "source": [
    "# Описание колонок\n",
    "\n",
    "# columns_description = requests.get(\"https://iss.moex.com/iss/history/engines/stock/markets/bonds/securities/columns.json\").json().get('history').get('data')\n",
    "# for i in columns_description:\n",
    "#     print(f'{i[1]} - {i[2]} - {i[3]}')"
   ]
  }
 ],
 "metadata": {
  "kernelspec": {
   "display_name": ".venv",
   "language": "python",
   "name": "python3"
  },
  "language_info": {
   "codemirror_mode": {
    "name": "ipython",
    "version": 3
   },
   "file_extension": ".py",
   "mimetype": "text/x-python",
   "name": "python",
   "nbconvert_exporter": "python",
   "pygments_lexer": "ipython3",
   "version": "3.11.2"
  }
 },
 "nbformat": 4,
 "nbformat_minor": 2
}
